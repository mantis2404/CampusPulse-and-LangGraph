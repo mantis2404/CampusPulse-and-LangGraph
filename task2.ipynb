{
 "cells": [
  {
   "cell_type": "markdown",
   "id": "c76122e2",
   "metadata": {},
   "source": [
    "#### IMPORTING LIBRARIES AND FUNCTIONS"
   ]
  },
  {
   "cell_type": "code",
   "execution_count": 19,
   "id": "df89e704",
   "metadata": {},
   "outputs": [],
   "source": [
    "from IPython.display import Image, display\n",
    "from typing import Annotated\n",
    "from typing_extensions import TypedDict\n",
    "from langgraph.graph import StateGraph, START, END\n",
    "from langgraph.graph.message import add_messages\n",
    "from langchain.chat_models import init_chat_model\n",
    "from langchain_core.tools import tool\n",
    "from langgraph.prebuilt import ToolNode, tools_condition\n",
    "from langchain_core.messages import HumanMessage, SystemMessage\n",
    "from langchain_community.tools import DuckDuckGoSearchRun\n",
    "from langchain_community.utilities import OpenWeatherMapAPIWrapper\n",
    "from langgraph.checkpoint.memory import MemorySaver\n",
    "from dotenv import load_dotenv\n",
    "import os"
   ]
  },
  {
   "cell_type": "code",
   "execution_count": 2,
   "id": "ea8d6258",
   "metadata": {},
   "outputs": [],
   "source": [
    "class State(TypedDict):\n",
    "    messages: Annotated[list, add_messages]"
   ]
  },
  {
   "cell_type": "markdown",
   "id": "15692839",
   "metadata": {},
   "source": [
    "##### INITIALISING API KEYS"
   ]
  },
  {
   "cell_type": "code",
   "execution_count": 20,
   "id": "ed75fcc2",
   "metadata": {},
   "outputs": [],
   "source": [
    "os.environ[\"GOOGLE_API_KEY\"] = os.getenv(\"GOOGLE_API_KEY\")\n",
    "os.environ[\"OPENWEATHERMAP_API_KEY\"] = os.getenv(\"OPENWEATHERMAP_API_KEY\")\n",
    "llm = init_chat_model(os.getenv(\"MODEL\"))\n",
    "llm2 = init_chat_model(os.getenv(\"MODEL\"))"
   ]
  },
  {
   "cell_type": "markdown",
   "id": "a92ccda6",
   "metadata": {},
   "source": [
    "#### DEFINING TOOLS FOR LEVEL-1"
   ]
  },
  {
   "cell_type": "code",
   "execution_count": 21,
   "id": "25decdbc",
   "metadata": {},
   "outputs": [],
   "source": [
    "@tool\n",
    "def multiply(a:int,b:int)->int:\n",
    "    \"\"\"Multiply two numbers\"\"\"\n",
    "    return a*b\n",
    "\n",
    "@tool\n",
    "def add(a:int,b:int)->int:\n",
    "    \"\"\"Add two numbers\"\"\"\n",
    "    return a+b\n",
    "\n",
    "@tool\n",
    "def subtract(a:int,b:int)->int:\n",
    "    \"\"\"Subtract two numbers\"\"\"\n",
    "    return a-b\n",
    "\n",
    "@tool\n",
    "def divide(a:int,b:int)->int:\n",
    "    \"\"\"Divide two numbers\"\"\"\n",
    "    return a/b"
   ]
  },
  {
   "cell_type": "markdown",
   "id": "1547ee07",
   "metadata": {},
   "source": [
    "#### DEFINING TOOLS FOR LEVEL-2"
   ]
  },
  {
   "cell_type": "code",
   "execution_count": 22,
   "id": "d412974b",
   "metadata": {},
   "outputs": [
    {
     "data": {
      "text/plain": [
       "'Error: Unable to find the resource'"
      ]
     },
     "execution_count": 22,
     "metadata": {},
     "output_type": "execute_result"
    }
   ],
   "source": [
    "def search_fashion_trends(query:str)->str:\n",
    "    \"\"\"Fashion trends in a location\"\"\"\n",
    "    search=DuckDuckGoSearchRun()\n",
    "    location=llm2.invoke(f\"Extract location from {query}.Give only the location\")\n",
    "    updated_query=f\"Latest fashion trends in {location} site:vogue.com\"\n",
    "    return search.invoke(updated_query)\n",
    "\n",
    "@tool\n",
    "def weather(location:str)->str:\n",
    "    \"\"\"Get weather for a specified location\"\"\"\n",
    "    weather = OpenWeatherMapAPIWrapper()\n",
    "    return weather.run(location)\n",
    "\n",
    "def error_handler(query):\n",
    "    try:\n",
    "        return weather.invoke(query)\n",
    "    except Exception as e:\n",
    "        return (f\"Error: {e}\")\n",
    "    \n",
    "error_handler(\"Banglore\")\n"
   ]
  },
  {
   "cell_type": "markdown",
   "id": "8abb20ff",
   "metadata": {},
   "source": [
    "#### MEMORY FOR LEVEL-3, DEFINING A CHECKPOINTER"
   ]
  },
  {
   "cell_type": "code",
   "execution_count": 6,
   "id": "f742100c",
   "metadata": {},
   "outputs": [],
   "source": [
    "memory = MemorySaver()"
   ]
  },
  {
   "cell_type": "markdown",
   "id": "6f2e4246",
   "metadata": {},
   "source": [
    "#### BINDING TOOLS WITH LLM SO THAT IT IS AWARE OF THEIR EXISTENCE"
   ]
  },
  {
   "cell_type": "code",
   "execution_count": 7,
   "id": "5159b103",
   "metadata": {},
   "outputs": [],
   "source": [
    "tools=[divide,multiply,add,subtract,weather,search_fashion_trends]\n",
    "llm_with_tools=llm.bind_tools(tools)"
   ]
  },
  {
   "cell_type": "markdown",
   "id": "33c2d649",
   "metadata": {},
   "source": [
    "#### DEFINING CHATBOT NODE"
   ]
  },
  {
   "cell_type": "code",
   "execution_count": 8,
   "id": "abee1c07",
   "metadata": {},
   "outputs": [],
   "source": [
    "def chatbot(state: State):\n",
    "    return {\"messages\": [llm_with_tools.invoke(state[\"messages\"])]}"
   ]
  },
  {
   "cell_type": "markdown",
   "id": "b0bf0863",
   "metadata": {},
   "source": [
    "#### ADDING STATE ,CHATBOT AND TOOLS NODE TO THE GRAPH"
   ]
  },
  {
   "cell_type": "code",
   "execution_count": 9,
   "id": "c155a040",
   "metadata": {},
   "outputs": [
    {
     "data": {
      "text/plain": [
       "<langgraph.graph.state.StateGraph at 0x76876c2aa450>"
      ]
     },
     "execution_count": 9,
     "metadata": {},
     "output_type": "execute_result"
    }
   ],
   "source": [
    "graph_builder = StateGraph(State)\n",
    "\n",
    "# The first argument is the unique node name\n",
    "# The second argument is the function or object that will be called whenever\n",
    "# the node is used.\n",
    "graph_builder.add_node(\"chatbot\", chatbot)\n",
    "graph_builder.add_node(\"tools\",ToolNode(tools))"
   ]
  },
  {
   "cell_type": "markdown",
   "id": "29f2bc5a",
   "metadata": {},
   "source": [
    "#### DEFINING EDGES, INTERACTION BETWEEN 2 NODES, AND COMPILING THE GRAPH BY PROVIDING CHECKPOINTER THAT WILL CHECKPOINT THE STATE AS GRPAH FIND ITS WAY THROUGH DIFFERERNT NODES(BASICALLY MEMORY RETENTION WITHOUT ANY EXTERNAL MEMORY)\n",
    "\n",
    "#### WE ARE USINNG THE PREBUILT ROUTING LOGIC tools_condition AND HENCE NEED NOT TO DEFINE SEPARATELY"
   ]
  },
  {
   "cell_type": "code",
   "execution_count": 10,
   "id": "6fd22a61",
   "metadata": {},
   "outputs": [],
   "source": [
    "graph_builder.add_edge(START, \"chatbot\")\n",
    "graph_builder.add_conditional_edges(\"chatbot\",tools_condition)\n",
    "graph_builder.add_edge(\"tools\",\"chatbot\")\n",
    "graph = graph_builder.compile(checkpointer=memory)"
   ]
  },
  {
   "cell_type": "markdown",
   "id": "16cdd9e5",
   "metadata": {},
   "source": [
    "#### VISUALIZING THE AWAKENING : IMAGE OF THE GRAPH"
   ]
  },
  {
   "cell_type": "code",
   "execution_count": 11,
   "id": "af9f66b5",
   "metadata": {},
   "outputs": [
    {
     "data": {
      "image/png": "[encoded data removed]",
      "text/plain": [
       "<IPython.core.display.Image object>"
      ]
     },
     "metadata": {},
     "output_type": "display_data"
    }
   ],
   "source": [
    "display(Image(graph.get_graph().draw_mermaid_png()))"
   ]
  },
  {
   "cell_type": "markdown",
   "id": "f4f5eea2",
   "metadata": {},
   "source": [
    "#### GIVING CUSTOM RESPONSE"
   ]
  },
  {
   "cell_type": "code",
   "execution_count": 12,
   "id": "e4e643c8",
   "metadata": {},
   "outputs": [],
   "source": [
    "config = {\"configurable\": {\"thread_id\": \"2\"}}\n",
    "response=graph.invoke({\"messages\":[HumanMessage(content=\"can you tell what fashion trends are trending currently in berlin.Also descrie the weather in banglore, Also tell me what is 2+3\")]},config)"
   ]
  },
  {
   "cell_type": "markdown",
   "id": "8c48bb66",
   "metadata": {},
   "source": [
    "#### OUTPUT"
   ]
  },
  {
   "cell_type": "code",
   "execution_count": 13,
   "id": "d3bc086f",
   "metadata": {},
   "outputs": [
    {
     "name": "stdout",
     "output_type": "stream",
     "text": [
      "================================\u001b[1m Human Message \u001b[0m=================================\n",
      "\n",
      "can you tell what fashion trends are trending currently in berlin.Also descrie the weather in banglore, Also tell me what is 2+3\n",
      "==================================\u001b[1m Ai Message \u001b[0m==================================\n",
      "Tool Calls:\n",
      "  search_fashion_trends (7dac2023-c86f-4662-a887-28e20985b6b9)\n",
      " Call ID: 7dac2023-c86f-4662-a887-28e20985b6b9\n",
      "  Args:\n",
      "    query: berlin\n",
      "  weather (4ecee8b0-0d32-4093-8f54-2ad33c6b674b)\n",
      " Call ID: 4ecee8b0-0d32-4093-8f54-2ad33c6b674b\n",
      "  Args:\n",
      "    location: banglore\n",
      "  add (4d9a652d-96fe-410c-b6de-43af58e36616)\n",
      " Call ID: 4d9a652d-96fe-410c-b6de-43af58e36616\n",
      "  Args:\n",
      "    a: 2.0\n",
      "    b: 3.0\n",
      "=================================\u001b[1m Tool Message \u001b[0m=================================\n",
      "Name: search_fashion_trends\n",
      "\n",
      "Head-to-toe black and sickeningly cool looks can only mean one thing—Berlin Fashion Week is back. This season, Berliners are trying on an American classic, the Harley Davidson motorcycle jacket ... For spring 2025, however, they decided to show in the city in which they live, create, and work, aka Berlin. \"It has been amazing, because our experience of being here has intensified in the ... See the Runway Debuts of 51 Looks on View at the Costume Institute's 'Superfine: Tailoring Black Style' Exhibition Vogue's Top Spring 2025 Fashion Trends:. The Summertime Dress: Proenza Schouler Yves stripe fringed knit dress, $2,490 The Bohemian Blouse: Banana Republic chiffon twist-neck top, $100 The ... GmbH Berlin Fall 2025 collection, runway looks, beauty, models, and reviews. ... a response to the dreadful places and situations we currently find ourselves in. They created it by reconnecting ...\n",
      "=================================\u001b[1m Tool Message \u001b[0m=================================\n",
      "Name: weather\n",
      "\n",
      "Error: NotFoundError('Unable to find the resource')\n",
      " Please fix your mistakes.\n",
      "=================================\u001b[1m Tool Message \u001b[0m=================================\n",
      "Name: add\n",
      "\n",
      "5\n",
      "==================================\u001b[1m Ai Message \u001b[0m==================================\n",
      "\n",
      "Okay! Here's the information you requested:\n",
      "\n",
      "*   **Fashion Trends in Berlin:** Head-to-toe black outfits and Harley Davidson motorcycle jackets seem to be trending in Berlin.\n",
      "*   **Weather in Bangalore:** I am unable to retrieve weather information for Bangalore right now. There seems to be an error.\n",
      "*   **2 + 3:** 2 + 3 = 5\n"
     ]
    }
   ],
   "source": [
    "for m in response['messages']:\n",
    "    m.pretty_print()"
   ]
  }
 ],
 "metadata": {
  "kernelspec": {
   "display_name": "Python 3",
   "language": "python",
   "name": "python3"
  },
  "language_info": {
   "codemirror_mode": {
    "name": "ipython",
    "version": 3
   },
   "file_extension": ".py",
   "mimetype": "text/x-python",
   "name": "python",
   "nbconvert_exporter": "python",
   "pygments_lexer": "ipython3",
   "version": "3.12.3"
  }
 },
 "nbformat": 4,
 "nbformat_minor": 5
}
